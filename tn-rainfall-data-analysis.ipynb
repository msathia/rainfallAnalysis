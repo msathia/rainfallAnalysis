{
 "cells": [
  {
   "cell_type": "code",
   "execution_count": 1,
   "id": "c21559f4",
   "metadata": {
    "_cell_guid": "b1076dfc-b9ad-4769-8c92-a6c4dae69d19",
    "_uuid": "8f2839f25d086af736a60e9eeb907d3b93b6e0e5",
    "execution": {
     "iopub.execute_input": "2024-01-03T01:02:20.146532Z",
     "iopub.status.busy": "2024-01-03T01:02:20.145907Z",
     "iopub.status.idle": "2024-01-03T01:02:20.552277Z",
     "shell.execute_reply": "2024-01-03T01:02:20.550897Z"
    },
    "papermill": {
     "duration": 0.414314,
     "end_time": "2024-01-03T01:02:20.554695",
     "exception": false,
     "start_time": "2024-01-03T01:02:20.140381",
     "status": "completed"
    },
    "tags": []
   },
   "outputs": [
    {
     "name": "stdout",
     "output_type": "stream",
     "text": [
      "/kaggle/input/tamilnadu-rainfall/ConsolidatedRainfall.json\n"
     ]
    }
   ],
   "source": [
    "# This Python 3 environment comes with many helpful analytics libraries installed\n",
    "# It is defined by the kaggle/python Docker image: https://github.com/kaggle/docker-python\n",
    "# For example, here's several helpful packages to load\n",
    "\n",
    "import numpy as np # linear algebra\n",
    "import pandas as pd # data processing, CSV file I/O (e.g. pd.read_csv)\n",
    "\n",
    "# Input data files are available in the read-only \"../input/\" directory\n",
    "# For example, running this (by clicking run or pressing Shift+Enter) will list all files under the input directory\n",
    "\n",
    "import os\n",
    "for dirname, _, filenames in os.walk('/kaggle/input'):\n",
    "    for filename in filenames:\n",
    "        print(os.path.join(dirname, filename))\n",
    "\n",
    "# You can write up to 20GB to the current directory (/kaggle/working/) that gets preserved as output when you create a version using \"Save & Run All\" \n",
    "# You can also write temporary files to /kaggle/temp/, but they won't be saved outside of the current session"
   ]
  },
  {
   "cell_type": "code",
   "execution_count": 2,
   "id": "4a48baa0",
   "metadata": {
    "execution": {
     "iopub.execute_input": "2024-01-03T01:02:20.561547Z",
     "iopub.status.busy": "2024-01-03T01:02:20.561078Z",
     "iopub.status.idle": "2024-01-03T01:02:20.565327Z",
     "shell.execute_reply": "2024-01-03T01:02:20.564353Z"
    },
    "papermill": {
     "duration": 0.009932,
     "end_time": "2024-01-03T01:02:20.567440",
     "exception": false,
     "start_time": "2024-01-03T01:02:20.557508",
     "status": "completed"
    },
    "tags": []
   },
   "outputs": [],
   "source": [
    "import json"
   ]
  },
  {
   "cell_type": "code",
   "execution_count": 3,
   "id": "8f95e791",
   "metadata": {
    "execution": {
     "iopub.execute_input": "2024-01-03T01:02:20.574263Z",
     "iopub.status.busy": "2024-01-03T01:02:20.573356Z",
     "iopub.status.idle": "2024-01-03T01:02:20.582344Z",
     "shell.execute_reply": "2024-01-03T01:02:20.581386Z"
    },
    "papermill": {
     "duration": 0.014633,
     "end_time": "2024-01-03T01:02:20.584644",
     "exception": false,
     "start_time": "2024-01-03T01:02:20.570011",
     "status": "completed"
    },
    "tags": []
   },
   "outputs": [],
   "source": [
    "def json_to_dataframe(file):\n",
    "\n",
    "    f = open ( file , \"r\") \n",
    "    data = json.loads(f.read())               #loading the json file.\n",
    "    dept = []                                  \n",
    "    dist = []                                  #Creating empty lists to store values.\n",
    "    station = []\n",
    "    rain = []\n",
    "    date = []\n",
    "   \n",
    "    \n",
    "    for i in range(len(data)):          \n",
    "        dep = data[i]['dept']\n",
    "        dis = data[i]['dist']\n",
    "        stat = data[i]['station']\n",
    "        rai = data[i]['value']\n",
    "        dat = data[i]['date']\n",
    "\n",
    "        dept.append(dep)\n",
    "        dist.append(dis)\n",
    "        station.append(stat)                    # Appending values to lists\n",
    "        rain.append(rai)\n",
    "        date.append(dat)\n",
    "\n",
    "    print('Done')      # for indication perpose.\n",
    "    new_df = pd.DataFrame(columns=['department','district','station','rain','date']) # Creating empty DataFrame.\n",
    "    new_df.department = dept\n",
    "    new_df.district = dist           #intializing list values to the DataFrame.\n",
    "    new_df.station = station\n",
    "    new_df.rain = rain\n",
    "    new_df.date = date\n",
    "    \n",
    "    print('Done')      # for indication perpose.\n",
    "    final_df = new_df.drop_duplicates(keep='first')  # Dropping duplicate rows from the create Dataframe.\n",
    "    return final_df"
   ]
  },
  {
   "cell_type": "code",
   "execution_count": 4,
   "id": "84fcf9c7",
   "metadata": {
    "execution": {
     "iopub.execute_input": "2024-01-03T01:02:20.590653Z",
     "iopub.status.busy": "2024-01-03T01:02:20.590311Z",
     "iopub.status.idle": "2024-01-03T01:02:24.091701Z",
     "shell.execute_reply": "2024-01-03T01:02:24.090398Z"
    },
    "papermill": {
     "duration": 3.50707,
     "end_time": "2024-01-03T01:02:24.094037",
     "exception": false,
     "start_time": "2024-01-03T01:02:20.586967",
     "status": "completed"
    },
    "tags": []
   },
   "outputs": [
    {
     "name": "stdout",
     "output_type": "stream",
     "text": [
      "Done\n",
      "Done\n"
     ]
    },
    {
     "data": {
      "text/html": [
       "<div>\n",
       "<style scoped>\n",
       "    .dataframe tbody tr th:only-of-type {\n",
       "        vertical-align: middle;\n",
       "    }\n",
       "\n",
       "    .dataframe tbody tr th {\n",
       "        vertical-align: top;\n",
       "    }\n",
       "\n",
       "    .dataframe thead th {\n",
       "        text-align: right;\n",
       "    }\n",
       "</style>\n",
       "<table border=\"1\" class=\"dataframe\">\n",
       "  <thead>\n",
       "    <tr style=\"text-align: right;\">\n",
       "      <th></th>\n",
       "      <th>department</th>\n",
       "      <th>district</th>\n",
       "      <th>station</th>\n",
       "      <th>rain</th>\n",
       "      <th>date</th>\n",
       "    </tr>\n",
       "  </thead>\n",
       "  <tbody>\n",
       "    <tr>\n",
       "      <th>0</th>\n",
       "      <td>Revenue</td>\n",
       "      <td>The Nilgiris</td>\n",
       "      <td>Devala</td>\n",
       "      <td>5.0</td>\n",
       "      <td>1990-02-13</td>\n",
       "    </tr>\n",
       "    <tr>\n",
       "      <th>1</th>\n",
       "      <td>Revenue</td>\n",
       "      <td>Coimbatore</td>\n",
       "      <td>Taluk Office, Pollachi</td>\n",
       "      <td>8.0</td>\n",
       "      <td>1990-10-17</td>\n",
       "    </tr>\n",
       "    <tr>\n",
       "      <th>2</th>\n",
       "      <td>Revenue</td>\n",
       "      <td>Coimbatore</td>\n",
       "      <td>Taluk Office, Pollachi</td>\n",
       "      <td>34.0</td>\n",
       "      <td>1990-10-18</td>\n",
       "    </tr>\n",
       "    <tr>\n",
       "      <th>3</th>\n",
       "      <td>Revenue</td>\n",
       "      <td>Mayiladuthurai</td>\n",
       "      <td>Anaikaranchatram (Kollidam)</td>\n",
       "      <td>13.0</td>\n",
       "      <td>1990-10-18</td>\n",
       "    </tr>\n",
       "    <tr>\n",
       "      <th>4</th>\n",
       "      <td>Revenue</td>\n",
       "      <td>Mayiladuthurai</td>\n",
       "      <td>Sirkali</td>\n",
       "      <td>12.4</td>\n",
       "      <td>1990-10-18</td>\n",
       "    </tr>\n",
       "    <tr>\n",
       "      <th>...</th>\n",
       "      <td>...</td>\n",
       "      <td>...</td>\n",
       "      <td>...</td>\n",
       "      <td>...</td>\n",
       "      <td>...</td>\n",
       "    </tr>\n",
       "    <tr>\n",
       "      <th>650612</th>\n",
       "      <td>Revenue</td>\n",
       "      <td>Coimbatore</td>\n",
       "      <td>Airport Peelamedu</td>\n",
       "      <td>0.4</td>\n",
       "      <td>2023-12-25</td>\n",
       "    </tr>\n",
       "    <tr>\n",
       "      <th>650613</th>\n",
       "      <td>Revenue</td>\n",
       "      <td>Theni</td>\n",
       "      <td>Thekkadi</td>\n",
       "      <td>0.4</td>\n",
       "      <td>2023-12-25</td>\n",
       "    </tr>\n",
       "    <tr>\n",
       "      <th>650614</th>\n",
       "      <td>Revenue</td>\n",
       "      <td>Nagapattinam</td>\n",
       "      <td>Nagapattinam</td>\n",
       "      <td>0.4</td>\n",
       "      <td>2023-12-25</td>\n",
       "    </tr>\n",
       "    <tr>\n",
       "      <th>650615</th>\n",
       "      <td>GCC</td>\n",
       "      <td>Chennai</td>\n",
       "      <td>Zone 14 U41 Perungudi</td>\n",
       "      <td>0.2</td>\n",
       "      <td>2023-12-25</td>\n",
       "    </tr>\n",
       "    <tr>\n",
       "      <th>650616</th>\n",
       "      <td>GCC</td>\n",
       "      <td>Chennai</td>\n",
       "      <td>Zone 14 U41 Perungudi</td>\n",
       "      <td>0.2</td>\n",
       "      <td>2023-12-26</td>\n",
       "    </tr>\n",
       "  </tbody>\n",
       "</table>\n",
       "<p>638990 rows × 5 columns</p>\n",
       "</div>"
      ],
      "text/plain": [
       "       department        district                      station  rain  \\\n",
       "0         Revenue    The Nilgiris                       Devala   5.0   \n",
       "1         Revenue      Coimbatore       Taluk Office, Pollachi   8.0   \n",
       "2         Revenue      Coimbatore       Taluk Office, Pollachi  34.0   \n",
       "3         Revenue  Mayiladuthurai  Anaikaranchatram (Kollidam)  13.0   \n",
       "4         Revenue  Mayiladuthurai                      Sirkali  12.4   \n",
       "...           ...             ...                          ...   ...   \n",
       "650612    Revenue      Coimbatore            Airport Peelamedu   0.4   \n",
       "650613    Revenue           Theni                     Thekkadi   0.4   \n",
       "650614    Revenue    Nagapattinam                 Nagapattinam   0.4   \n",
       "650615        GCC         Chennai        Zone 14 U41 Perungudi   0.2   \n",
       "650616        GCC         Chennai        Zone 14 U41 Perungudi   0.2   \n",
       "\n",
       "              date  \n",
       "0       1990-02-13  \n",
       "1       1990-10-17  \n",
       "2       1990-10-18  \n",
       "3       1990-10-18  \n",
       "4       1990-10-18  \n",
       "...            ...  \n",
       "650612  2023-12-25  \n",
       "650613  2023-12-25  \n",
       "650614  2023-12-25  \n",
       "650615  2023-12-25  \n",
       "650616  2023-12-26  \n",
       "\n",
       "[638990 rows x 5 columns]"
      ]
     },
     "execution_count": 4,
     "metadata": {},
     "output_type": "execute_result"
    }
   ],
   "source": [
    "dev_data = json_to_dataframe('/kaggle/input/tamilnadu-rainfall/ConsolidatedRainfall.json')\n",
    "dev_data"
   ]
  }
 ],
 "metadata": {
  "kaggle": {
   "accelerator": "none",
   "dataSources": [
    {
     "datasetId": 4252554,
     "sourceId": 7326663,
     "sourceType": "datasetVersion"
    }
   ],
   "dockerImageVersionId": 30626,
   "isGpuEnabled": false,
   "isInternetEnabled": false,
   "language": "python",
   "sourceType": "notebook"
  },
  "kernelspec": {
   "display_name": "Python 3",
   "language": "python",
   "name": "python3"
  },
  "language_info": {
   "codemirror_mode": {
    "name": "ipython",
    "version": 3
   },
   "file_extension": ".py",
   "mimetype": "text/x-python",
   "name": "python",
   "nbconvert_exporter": "python",
   "pygments_lexer": "ipython3",
   "version": "3.10.12"
  },
  "papermill": {
   "default_parameters": {},
   "duration": 7.724098,
   "end_time": "2024-01-03T01:02:24.720172",
   "environment_variables": {},
   "exception": null,
   "input_path": "__notebook__.ipynb",
   "output_path": "__notebook__.ipynb",
   "parameters": {},
   "start_time": "2024-01-03T01:02:16.996074",
   "version": "2.4.0"
  }
 },
 "nbformat": 4,
 "nbformat_minor": 5
}
